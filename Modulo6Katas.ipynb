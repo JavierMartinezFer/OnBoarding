{
 "cells": [
  {
   "cell_type": "markdown",
   "metadata": {},
   "source": [
    "# Ejercicio1: Crear y usar listas de Python"
   ]
  },
  {
   "cell_type": "code",
   "execution_count": 19,
   "metadata": {},
   "outputs": [
    {
     "name": "stdout",
     "output_type": "stream",
     "text": [
      "Tenemos  8  planetas en el sistema solar.\n"
     ]
    }
   ],
   "source": [
    "# Creamos la lista planets y la mostramos\n",
    "\n",
    "planetas = [\"Mercurio\", \"Venus\", \"Tierra\", \"Marte\", \"Jupiter\", \"Saturno\", \"Urano\", \"Neptuno\"]\n",
    "\n",
    "print(\"Tenemos \", len(planetas), \" planetas en el sistema solar.\")"
   ]
  },
  {
   "cell_type": "code",
   "execution_count": 20,
   "metadata": {},
   "outputs": [
    {
     "name": "stdout",
     "output_type": "stream",
     "text": [
      "Ahora tenemos  9  planetas en el sistema solar.\n",
      "Pluton  es el último planeta.\n"
     ]
    }
   ],
   "source": [
    "# Agregamos a plutón y mostramos el último elemento\n",
    "\n",
    "planetas.append(\"Pluton\")\n",
    "\n",
    "print(\"Ahora tenemos \", len(planetas), \" planetas en el sistema solar.\")\n",
    "print(planetas[-1], \" es el último planeta.\")"
   ]
  },
  {
   "cell_type": "markdown",
   "metadata": {},
   "source": [
    "# Ejercicio 2: Trabajando con datos de una lista"
   ]
  },
  {
   "cell_type": "code",
   "execution_count": 21,
   "metadata": {},
   "outputs": [],
   "source": [
    "#Lista de planetas\n",
    "planetas = [\"Mercurio\", \"Venus\", \"Tierra\", \"Marte\", \"Jupiter\", \"Saturno\", \"Urano\", \"Neptuno\"]"
   ]
  },
  {
   "cell_type": "code",
   "execution_count": 22,
   "metadata": {},
   "outputs": [],
   "source": [
    "#Nombre del planeta que vamos a buscar\n",
    "nombre_planeta = input(\"¿Qué planeta desea buscar? (Por favor, la primer letra debe ser mayuscula): \")"
   ]
  },
  {
   "cell_type": "code",
   "execution_count": 23,
   "metadata": {},
   "outputs": [],
   "source": [
    "# Busca el planeta en la lista\n",
    "planeta_pos = planetas.index(nombre_planeta)"
   ]
  },
  {
   "cell_type": "code",
   "execution_count": 24,
   "metadata": {},
   "outputs": [
    {
     "name": "stdout",
     "output_type": "stream",
     "text": [
      "Los siguientes planetas estan más cerca del sol que el planeta Marte\n",
      "['Mercurio', 'Venus', 'Tierra']\n"
     ]
    }
   ],
   "source": [
    "# Muestra los planetas más cercanos al sol\n",
    "planetas_cerca = f\"\"\"Los siguientes planetas estan más cerca del sol que el planeta {nombre_planeta}\n",
    "{planetas[0:planeta_pos]}\"\"\"\n",
    "print(planetas_cerca)"
   ]
  },
  {
   "cell_type": "code",
   "execution_count": 25,
   "metadata": {},
   "outputs": [
    {
     "name": "stdout",
     "output_type": "stream",
     "text": [
      "Los siguientes planetas estan más alejados del sol que el planeta Marte\n",
      "['Jupiter', 'Saturno', 'Urano', 'Neptuno']\n"
     ]
    }
   ],
   "source": [
    "# Muestra los planetas más lejanos al sol\n",
    "planetas_lejos = f\"\"\"Los siguientes planetas estan más alejados del sol que el planeta {nombre_planeta}\n",
    "{planetas[planeta_pos + 1:]}\"\"\"\n",
    "print(planetas_lejos)"
   ]
  }
 ],
 "metadata": {
  "interpreter": {
   "hash": "33123dea73f5da32c2403dc0c7b03911442f1a553336b06ec31171ab272045a3"
  },
  "kernelspec": {
   "display_name": "Python 3.9.7 64-bit",
   "language": "python",
   "name": "python3"
  },
  "language_info": {
   "codemirror_mode": {
    "name": "ipython",
    "version": 3
   },
   "file_extension": ".py",
   "mimetype": "text/x-python",
   "name": "python",
   "nbconvert_exporter": "python",
   "pygments_lexer": "ipython3",
   "version": "3.9.7"
  },
  "orig_nbformat": 4
 },
 "nbformat": 4,
 "nbformat_minor": 2
}
