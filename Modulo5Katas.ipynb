{
 "cells": [
  {
   "cell_type": "markdown",
   "metadata": {},
   "source": [
    "# Calcular la distancia entre dos planetas."
   ]
  },
  {
   "cell_type": "code",
   "execution_count": 14,
   "metadata": {},
   "outputs": [
    {
     "name": "stdout",
     "output_type": "stream",
     "text": [
      "628949330\n",
      "390577533.93\n"
     ]
    }
   ],
   "source": [
    "# Crear variables para almacenar las dos distancias\n",
    "tierra = 149597870 #distancia en kilometros\n",
    "jupiter = 778547200 #distancia en kilometros\n",
    "\n",
    "distanciak = abs(tierra-jupiter)\n",
    "distanciam = distanciak * 0.621\n",
    "\n",
    "print(distanciak)\n",
    "print(distanciam)"
   ]
  },
  {
   "cell_type": "markdown",
   "metadata": {},
   "source": [
    "# Convierte cadenas en números y usa valores absolutos"
   ]
  },
  {
   "cell_type": "code",
   "execution_count": 15,
   "metadata": {},
   "outputs": [
    {
     "name": "stdout",
     "output_type": "stream",
     "text": [
      "Ingresa la distancia del sol para los dos planetas\n",
      "> Distancia del planeta 1 al sol: 500 km\n",
      "> Distancia del planeta 2 al sol: 600 km\n",
      "- Distancia entre planeta 1 y planeta 2 es: 100 km\n",
      "- Distancia entre planeta 1 y planeta 2 es: 62.1 millas \n"
     ]
    }
   ],
   "source": [
    "# Ingresar valores\n",
    "print(\"Ingresa la distancia del sol para los dos planetas\")\n",
    "planeta1 = int(input(\"- Distancia del sol al planeta 1: \"))\n",
    "print(\"> Distancia del planeta 1 al sol: \" + str(planeta1) + \" km\")\n",
    "planeta2 = int(input(\"- Distancia del sol al planeta 2: \"))\n",
    "print(\"> Distancia del planeta 2 al sol: \" + str(planeta2) + \" km\")\n",
    "\n",
    "# Valor absoluto\n",
    "distancia_km = abs(planeta1 - planeta2)\n",
    "distancia_mi = distancia_km * 0.621\n",
    "\n",
    "distancias = f\"\"\"- Distancia entre planeta 1 y planeta 2 es: {distancia_km} km\n",
    "- Distancia entre planeta 1 y planeta 2 es: {distancia_mi} millas \"\"\"\n",
    "print(distancias)"
   ]
  }
 ],
 "metadata": {
  "interpreter": {
   "hash": "33123dea73f5da32c2403dc0c7b03911442f1a553336b06ec31171ab272045a3"
  },
  "kernelspec": {
   "display_name": "Python 3.9.7 64-bit",
   "language": "python",
   "name": "python3"
  },
  "language_info": {
   "codemirror_mode": {
    "name": "ipython",
    "version": 3
   },
   "file_extension": ".py",
   "mimetype": "text/x-python",
   "name": "python",
   "nbconvert_exporter": "python",
   "pygments_lexer": "ipython3",
   "version": "3.9.7"
  },
  "orig_nbformat": 4
 },
 "nbformat": 4,
 "nbformat_minor": 2
}
