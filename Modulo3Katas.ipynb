{
 "cells": [
  {
   "cell_type": "markdown",
   "metadata": {},
   "source": [
    "# Ejercicio 1. \n",
    "\n",
    "- Añadir el código necesario para crear una variable que guarde la velocidad del asteroide.\n",
    "- Escribe una expresión de prueba para calcular si necesita una advertencia.\n",
    "- Agregue las instrucciones que se ejecutarán si la expresión de prueba es true o false."
   ]
  },
  {
   "cell_type": "code",
   "execution_count": 31,
   "metadata": {},
   "outputs": [
    {
     "name": "stdout",
     "output_type": "stream",
     "text": [
      "Todo en orden - Buen día!\n"
     ]
    }
   ],
   "source": [
    "tamano_asteroide = 22\n",
    "if tamano_asteroide > 25:\n",
    "    print(\"¡Alerta! Un asteroide se acerca a una velocidad peligrosa!\")\n",
    "else:\n",
    "    print(\"Todo en orden - Buen día!\")"
   ]
  },
  {
   "cell_type": "markdown",
   "metadata": {},
   "source": [
    "# Ejercicio 2.\n",
    "\n",
    "- Agrega el código para crear una variable para un asteroide que viaja a 19 km/s\n",
    "- Escribe varias expresiones de prueba para determinar si puedes ver el rayo de luz desde la tierra\n",
    "- Agrega las instrucciones que se ejecutarán si las expresiones de prueba son True o False"
   ]
  },
  {
   "cell_type": "code",
   "execution_count": 32,
   "metadata": {},
   "outputs": [
    {
     "name": "stdout",
     "output_type": "stream",
     "text": [
      "Asteroide en atmosfera terrestre - Rayo de luz visible\n"
     ]
    }
   ],
   "source": [
    "velocidad_asteroide = 20\n",
    "if velocidad_asteroide >= 20:\n",
    "    print(\"Asteroide en atmosfera terrestre - Rayo de luz visible\")\n",
    "else:\n",
    "    print(\"Todo en orden - Buen día!\")"
   ]
  },
  {
   "cell_type": "markdown",
   "metadata": {},
   "source": [
    "# Ejercicio 3.\n",
    "\n",
    "- Agrega el código para crear nuevas variables para la velocidad y el tamaño del asteroide\n",
    "- Para probar el código, prueba con varias velocidades y tamaños\n",
    "- Escribe varias expresiones de prueba o combinaciones de expresiones de prueba para determinar qué mensaje se debe enviar a Tierra."
   ]
  },
  {
   "cell_type": "code",
   "execution_count": 33,
   "metadata": {},
   "outputs": [
    {
     "name": "stdout",
     "output_type": "stream",
     "text": [
      "¡PELIGRO INMINENTE! Asteroide de gran tamaño acercandose a velocidad peligrosa\n"
     ]
    }
   ],
   "source": [
    "velocidad_asteroide = 26\n",
    "tamano_asteroide = 32\n",
    "if tamano_asteroide > 25 and velocidad_asteroide > 25:\n",
    "    print(\"¡PELIGRO INMINENTE! Asteroide de gran tamaño acercandose a velocidad peligrosa!\")\n",
    "elif tamano_asteroide > 25 or velocidad_asteroide > 25:\n",
    "    print(\"¡Alerta! Asteroide peligroso acercandose a la tierra\")\n",
    "elif velocidad_asteroide >= 20:\n",
    "    print(\"Asteroide en atmosfera terrestre - Rayo de luz visible\")\n",
    "else:\n",
    "    print(\"Todo en orden - Buen día!\")"
   ]
  }
 ],
 "metadata": {
  "interpreter": {
   "hash": "33123dea73f5da32c2403dc0c7b03911442f1a553336b06ec31171ab272045a3"
  },
  "kernelspec": {
   "display_name": "Python 3.9.7 64-bit",
   "language": "python",
   "name": "python3"
  },
  "language_info": {
   "codemirror_mode": {
    "name": "ipython",
    "version": 3
   },
   "file_extension": ".py",
   "mimetype": "text/x-python",
   "name": "python",
   "nbconvert_exporter": "python",
   "pygments_lexer": "ipython3",
   "version": "3.9.7"
  },
  "orig_nbformat": 4
 },
 "nbformat": 4,
 "nbformat_minor": 2
}
